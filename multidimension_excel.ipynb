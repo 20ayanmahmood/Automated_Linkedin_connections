{
 "cells": [
  {
   "cell_type": "code",
   "execution_count": 2,
   "metadata": {},
   "outputs": [
    {
     "name": "stderr",
     "output_type": "stream",
     "text": [
      "C:\\Users\\Admin\\AppData\\Local\\Packages\\PythonSoftwareFoundation.Python.3.11_qbz5n2kfra8p0\\LocalCache\\local-packages\\Python311\\site-packages\\tqdm\\auto.py:21: TqdmWarning: IProgress not found. Please update jupyter and ipywidgets. See https://ipywidgets.readthedocs.io/en/stable/user_install.html\n",
      "  from .autonotebook import tqdm as notebook_tqdm\n"
     ]
    }
   ],
   "source": [
    "from langchain_google_genai import GoogleGenerativeAI\n",
    "import pandas as pd\n",
    "llm=GoogleGenerativeAI(model=\"gemini-1.5-flash\")"
   ]
  },
  {
   "cell_type": "code",
   "execution_count": 3,
   "metadata": {},
   "outputs": [
    {
     "data": {
      "text/plain": [
       "['Orders', 'Customers', 'Sales Report']"
      ]
     },
     "execution_count": 3,
     "metadata": {},
     "output_type": "execute_result"
    }
   ],
   "source": [
    "name=pd.ExcelFile(r\"D:\\New Folder\\multi_sheet_excel.xlsx\").sheet_names\n",
    "name"
   ]
  },
  {
   "cell_type": "code",
   "execution_count": 111,
   "metadata": {},
   "outputs": [],
   "source": [
    "from langchain.chains import LLMChain\n",
    "from langchain.prompts import PromptTemplate\n",
    "def sheet_finder(question,sheet_name):\n",
    "    temp = \"\"\"Based on the given question: {question}\n",
    "If user question is inappropriate say {{\"response\":\"Provide more details\"}}\n",
    "Determine the most relevant sheet name(s) that best suit the user's query.\n",
    "\n",
    "- If the question **requires comparison** between multiple categories, provide **multiple sheet names** that contain the necessary data.\n",
    "- If the question **requires data merging or joining** (e.g., relationships between entities across sheets), identify the sheets that should be combined.\n",
    "- If the question refers to a **single topic**, provide **only one** sheet name.\n",
    "- If no exact match is found, suggest the closest possible sheet(s).\n",
    "- If we reuqire two tables then comparison must be true.\n",
    "Analyze this JSON Data: {name}\n",
    "\n",
    "Just provide the sheet name(s) as a list. If a join is needed, indicate which sheets should be merged:\n",
    "Output Format:\n",
    "{{\n",
    "    sheet_name:[],\n",
    "    Join on:{{}},\n",
    "    comparison: True or false\n",
    "}}\n",
    "\"\"\"\n",
    "    prompt=PromptTemplate(input_variables=[\"question\",\"name\"],template=temp)\n",
    "    chain= LLMChain(prompt=prompt,llm=llm)\n",
    "    response = chain.invoke({\"question\":question,\"name\":sheet_name})['text']\n",
    "    response = response.replace(\"```json\",\"\").replace(\"```\",\"\")\n",
    "    return response\n",
    "    \n",
    "\n"
   ]
  },
  {
   "cell_type": "code",
   "execution_count": 112,
   "metadata": {},
   "outputs": [
    {
     "data": {
      "text/plain": [
       "{'Orders': Index(['Order ID', 'Customer Name', 'Product', 'Quantity', 'Price',\n",
       "        'Order Date'],\n",
       "       dtype='object'),\n",
       " 'Customers': Index(['Customer ID', 'Name', 'Email', 'Phone', 'Address'], dtype='object'),\n",
       " 'Sales Report': Index(['Month', 'Total Sales', 'Profit'], dtype='object')}"
      ]
     },
     "execution_count": 112,
     "metadata": {},
     "output_type": "execute_result"
    }
   ],
   "source": [
    "column_name={}\n",
    "for i in name:\n",
    "    df=pd.read_excel(r\"D:\\New Folder\\multi_sheet_excel.xlsx\",sheet_name=i)\n",
    "    column_name[i]=df.columns\n",
    "column_name"
   ]
  },
  {
   "cell_type": "code",
   "execution_count": 113,
   "metadata": {},
   "outputs": [
    {
     "name": "stdout",
     "output_type": "stream",
     "text": [
      "{'sheet_name': ['Orders'], 'Join on': {}, 'comparison': False}\n"
     ]
    }
   ],
   "source": [
    "import json\n",
    "question=\"What is the total number of unique products ordered?\"\n",
    "js=sheet_finder(question,column_name)\n",
    "js=json.loads(js)\n",
    "print(js)"
   ]
  },
  {
   "cell_type": "code",
   "execution_count": 114,
   "metadata": {},
   "outputs": [],
   "source": [
    "def merge_excel(file_path,merge_info,how=\"outer\"):\n",
    "    sheet_names=merge_info['sheet_name']\n",
    "    join_key=merge_info['Join on']\n",
    "    dfs={sheet:pd.read_excel(file_path,sheet_name=sheet) for sheet in sheet_names}\n",
    "    merged_df = dfs[sheet_names[0]]\n",
    "\n",
    "    # Dynamically merge all sheets based on their respective join keys\n",
    "    for i in range(len(sheet_names) - 1):\n",
    "        left_key, right_key = join_key[sheet_names[i]], join_key[sheet_names[i + 1]]\n",
    "        merged_df = merged_df.merge(dfs[sheet_names[i + 1]], left_on=left_key, right_on=right_key, how=how)\n",
    "\n",
    "    return merged_df\n",
    "    "
   ]
  },
  {
   "cell_type": "code",
   "execution_count": 115,
   "metadata": {},
   "outputs": [],
   "source": [
    "df=merge_excel(r\"D:\\New Folder\\multi_sheet_excel.xlsx\",js)"
   ]
  },
  {
   "cell_type": "code",
   "execution_count": 116,
   "metadata": {},
   "outputs": [
    {
     "data": {
      "text/html": [
       "<div>\n",
       "<style scoped>\n",
       "    .dataframe tbody tr th:only-of-type {\n",
       "        vertical-align: middle;\n",
       "    }\n",
       "\n",
       "    .dataframe tbody tr th {\n",
       "        vertical-align: top;\n",
       "    }\n",
       "\n",
       "    .dataframe thead th {\n",
       "        text-align: right;\n",
       "    }\n",
       "</style>\n",
       "<table border=\"1\" class=\"dataframe\">\n",
       "  <thead>\n",
       "    <tr style=\"text-align: right;\">\n",
       "      <th></th>\n",
       "      <th>Order ID</th>\n",
       "      <th>Customer Name</th>\n",
       "      <th>Product</th>\n",
       "      <th>Quantity</th>\n",
       "      <th>Price</th>\n",
       "      <th>Order Date</th>\n",
       "    </tr>\n",
       "  </thead>\n",
       "  <tbody>\n",
       "    <tr>\n",
       "      <th>0</th>\n",
       "      <td>101</td>\n",
       "      <td>Alice</td>\n",
       "      <td>Laptop</td>\n",
       "      <td>1</td>\n",
       "      <td>1200</td>\n",
       "      <td>2024-01-10</td>\n",
       "    </tr>\n",
       "    <tr>\n",
       "      <th>1</th>\n",
       "      <td>102</td>\n",
       "      <td>Bob</td>\n",
       "      <td>Phone</td>\n",
       "      <td>2</td>\n",
       "      <td>800</td>\n",
       "      <td>2024-01-12</td>\n",
       "    </tr>\n",
       "    <tr>\n",
       "      <th>2</th>\n",
       "      <td>103</td>\n",
       "      <td>Charlie</td>\n",
       "      <td>Tablet</td>\n",
       "      <td>1</td>\n",
       "      <td>500</td>\n",
       "      <td>2024-01-15</td>\n",
       "    </tr>\n",
       "    <tr>\n",
       "      <th>3</th>\n",
       "      <td>104</td>\n",
       "      <td>David</td>\n",
       "      <td>Headphones</td>\n",
       "      <td>3</td>\n",
       "      <td>150</td>\n",
       "      <td>2024-01-18</td>\n",
       "    </tr>\n",
       "  </tbody>\n",
       "</table>\n",
       "</div>"
      ],
      "text/plain": [
       "   Order ID Customer Name     Product  Quantity  Price  Order Date\n",
       "0       101         Alice      Laptop         1   1200  2024-01-10\n",
       "1       102           Bob       Phone         2    800  2024-01-12\n",
       "2       103       Charlie      Tablet         1    500  2024-01-15\n",
       "3       104         David  Headphones         3    150  2024-01-18"
      ]
     },
     "execution_count": 116,
     "metadata": {},
     "output_type": "execute_result"
    }
   ],
   "source": [
    "df"
   ]
  },
  {
   "cell_type": "code",
   "execution_count": 117,
   "metadata": {},
   "outputs": [],
   "source": [
    "def excel_table(question,df):\n",
    "    list1=[]\n",
    "    for i in df.columns:\n",
    "        list1.append(df[i].dtype)\n",
    "    prompt = \"\"\"You are an expert in Python and Pandas. Generate Python code based on the user's question: {question}, using the given DataFrame `external_df`.\n",
    "\n",
    "### Guidelines:\n",
    "1. **DataFrame Details**:\n",
    "   - Column names: {df}\n",
    "   - Column datatypes: {datatype}\n",
    "   - Sample data: {sample}\n",
    "   - Null values for column: {null_values} \n",
    "   - fill null values with empty string.\n",
    "2. The output must be a Pandas DataFrame named `output_df`. If no relevant columns match the question, set `output_df = None`.\n",
    "3. Use explicit imports for all necessary libraries (e.g., `import pandas as pd`) to prevent errors.\n",
    "4. Do not create a sample data or assume sample data, alter the DataFrame, or include any functionality beyond answering the question.\n",
    "5. Include concise comments in your code for clarity.\n",
    "\n",
    "### Key Points:\n",
    "- Use .lower for matching the strings becuase their might be chance that the data should consist of some upper case or captilaize type of strings.\n",
    "- Output only the Python code; no explanations, text, or examples.\n",
    "- If the question is unrelated to the DataFrame, return `None` for `output_df`.\n",
    "- No Need to write functions\n",
    "# Your code starts below:\n",
    "    \"\"\"\n",
    "    prompt = PromptTemplate(template=prompt\n",
    "    , input_variables=[\"question\",\"df\",\"datatype\",\"sample\",\"null_values\"])\n",
    "    prompt_formatted_str = prompt.format(\n",
    "        question=question,df=df.columns,datatype=list1,sample=df.sample(),null_values=df.isnull().sum()\n",
    "    )\n",
    "    prediction = llm.invoke(prompt_formatted_str)\n",
    "    # prediction =prediction.text\n",
    "    prediction=prediction.replace(\"```python\",\"\")\n",
    "    prediction=prediction.replace(\"```\",\"\")\n",
    "    return prediction\n"
   ]
  },
  {
   "cell_type": "code",
   "execution_count": 118,
   "metadata": {},
   "outputs": [
    {
     "name": "stdout",
     "output_type": "stream",
     "text": [
      "{'sheet_name': ['Orders', 'Customers'], 'Join on': {'Orders': 'Customer Name', 'Customers': 'Name'}, 'comparison': False}\n"
     ]
    }
   ],
   "source": [
    "question=\"Find the total revenue generated by each customer.\"\n",
    "js=sheet_finder(question,column_name)\n",
    "js=json.loads(js)\n",
    "print(js)"
   ]
  },
  {
   "cell_type": "code",
   "execution_count": 119,
   "metadata": {},
   "outputs": [],
   "source": [
    "if len(js['sheet_name'])< 2:\n",
    "    df=pd.read_excel(r\"D:\\New Folder\\multi_sheet_excel.xlsx\",sheet_name=js['sheet_name'][0])\n",
    "    view=excel_table(question,df)\n",
    "elif js['Join on'] != {}:\n",
    "    df=merge_excel(r\"D:\\New Folder\\multi_sheet_excel.xlsx\",js)\n",
    "    view=excel_table(question,df)\n",
    "elif js['comparison'] == True or len(js['sheet_name']>2):\n",
    "    length=len(js['sheet_name'])\n",
    "    print(length)"
   ]
  },
  {
   "cell_type": "code",
   "execution_count": 120,
   "metadata": {},
   "outputs": [],
   "source": [
    "external_df=df\n",
    "local_vars={\"external_df\":df,\"output_df\":None}\n",
    "exec(view,local_vars)"
   ]
  },
  {
   "cell_type": "code",
   "execution_count": 121,
   "metadata": {},
   "outputs": [
    {
     "data": {
      "text/html": [
       "<div>\n",
       "<style scoped>\n",
       "    .dataframe tbody tr th:only-of-type {\n",
       "        vertical-align: middle;\n",
       "    }\n",
       "\n",
       "    .dataframe tbody tr th {\n",
       "        vertical-align: top;\n",
       "    }\n",
       "\n",
       "    .dataframe thead th {\n",
       "        text-align: right;\n",
       "    }\n",
       "</style>\n",
       "<table border=\"1\" class=\"dataframe\">\n",
       "  <thead>\n",
       "    <tr style=\"text-align: right;\">\n",
       "      <th></th>\n",
       "      <th>Customer Name</th>\n",
       "      <th>Total Revenue</th>\n",
       "    </tr>\n",
       "  </thead>\n",
       "  <tbody>\n",
       "    <tr>\n",
       "      <th>0</th>\n",
       "      <td>Alice</td>\n",
       "      <td>1200</td>\n",
       "    </tr>\n",
       "    <tr>\n",
       "      <th>1</th>\n",
       "      <td>Bob</td>\n",
       "      <td>1600</td>\n",
       "    </tr>\n",
       "    <tr>\n",
       "      <th>2</th>\n",
       "      <td>Charlie</td>\n",
       "      <td>500</td>\n",
       "    </tr>\n",
       "    <tr>\n",
       "      <th>3</th>\n",
       "      <td>David</td>\n",
       "      <td>450</td>\n",
       "    </tr>\n",
       "  </tbody>\n",
       "</table>\n",
       "</div>"
      ],
      "text/plain": [
       "  Customer Name  Total Revenue\n",
       "0         Alice           1200\n",
       "1           Bob           1600\n",
       "2       Charlie            500\n",
       "3         David            450"
      ]
     },
     "execution_count": 121,
     "metadata": {},
     "output_type": "execute_result"
    }
   ],
   "source": [
    "local_vars['output_df']"
   ]
  },
  {
   "cell_type": "code",
   "execution_count": 122,
   "metadata": {},
   "outputs": [
    {
     "data": {
      "text/plain": [
       "'Here\\'s a function to analyze the user\\'s question and return the relevant sheet names in the specified format.  It handles various scenarios, including comparisons, joins, and single-topic queries.  Because the JSON data only provides column names, the function relies on keyword matching to determine sheet relevance.  A more sophisticated approach would require semantic understanding of the question.\\n\\n\\npython\\nimport json\\n\\ndef analyze_query(question, data):\\n    \"\"\"\\n    Analyzes a user\\'s question and determines the relevant sheet names.\\n\\n    Args:\\n        question: The user\\'s question (string).\\n        data: A dictionary containing sheet names and their column names.\\n\\n    Returns:\\n        A dictionary in the specified output format.  Returns an error message if the question is inappropriate.\\n    \"\"\"\\n\\n    question = question.lower()  # case-insensitive matching\\n\\n    if \"inappropriate\" in question or \"offensive\" in question:  #Example of inappropriate check - needs improvement for real world\\n        return {\"response\": \"Provide more details\"}\\n\\n    sheet_names = list(data.keys())\\n    relevant_sheets = []\\n    join_on = {}\\n    comparison = False\\n\\n\\n    # Simple keyword matching (can be improved with more sophisticated NLP techniques)\\n    if \"order\" in question and \"customer\" in question:\\n        relevant_sheets = [\"Orders\", \"Customers\"]\\n        join_on = {\"Orders\": \"Customer Name\", \"Customers\": \"Name\"} #Assumed join key\\n        comparison = True\\n    elif \"order\" in question:\\n        relevant_sheets = [\"Orders\"]\\n    elif \"customer\" in question:\\n        relevant_sheets = [\"Customers\"]\\n    elif \"sales\" in question and \"profit\" in question:\\n        relevant_sheets = [\"Sales Report\"]\\n    elif \"sales\" in question and \"month\" in question:\\n        relevant_sheets = [\"Sales Report\"]\\n    elif \"total sales\" in question:\\n        relevant_sheets = [\"Sales Report\"]\\n    else:\\n        relevant_sheets = [] #Or you could suggest closest match based on keywords\\n\\n\\n    return {\\n        \"sheet_name\": relevant_sheets,\\n        \"Join on\": join_on,\\n        \"comparison\": comparison,\\n    }\\n\\n\\n\\n# Example Usage with your JSON data:\\ndata = {\\n    \\'Orders\\': [\\'Order ID\\', \\'Customer Name\\', \\'Product\\', \\'Quantity\\', \\'Price\\', \\'Order Date\\'],\\n    \\'Customers\\': [\\'Customer ID\\', \\'Name\\', \\'Email\\', \\'Phone\\', \\'Address\\'],\\n    \\'Sales Report\\': [\\'Month\\', \\'Total Sales\\', \\'Profit\\']\\n}\\n\\n\\n# Test cases\\nprint(analyze_query(\"What are the total sales for each month?\", data))\\nprint(analyze_query(\"Show me the orders and customer details.\", data))\\nprint(analyze_query(\"What is the average price of products?\",data)) # No exact match\\nprint(analyze_query(\"This is an inappropriate question.\", data))\\n\\n\\n'"
      ]
     },
     "execution_count": 122,
     "metadata": {},
     "output_type": "execute_result"
    }
   ],
   "source": [
    "question=\"What if\"\n",
    "js=sheet_finder(question,column_name)\n",
    "js\n",
    "# js=json.loads(js)\n"
   ]
  },
  {
   "cell_type": "code",
   "execution_count": 123,
   "metadata": {},
   "outputs": [
    {
     "ename": "TypeError",
     "evalue": "string indices must be integers, not 'str'",
     "output_type": "error",
     "traceback": [
      "\u001b[1;31m---------------------------------------------------------------------------\u001b[0m",
      "\u001b[1;31mTypeError\u001b[0m                                 Traceback (most recent call last)",
      "Cell \u001b[1;32mIn[123], line 1\u001b[0m\n\u001b[1;32m----> 1\u001b[0m \u001b[38;5;28;01mif\u001b[39;00m \u001b[38;5;28mlen\u001b[39m(\u001b[43mjs\u001b[49m\u001b[43m[\u001b[49m\u001b[38;5;124;43m'\u001b[39;49m\u001b[38;5;124;43msheet_name\u001b[39;49m\u001b[38;5;124;43m'\u001b[39;49m\u001b[43m]\u001b[49m)\u001b[38;5;241m<\u001b[39m\u001b[38;5;241m2\u001b[39m:\n\u001b[0;32m      2\u001b[0m     df\u001b[38;5;241m=\u001b[39mpd\u001b[38;5;241m.\u001b[39mread_excel(\u001b[38;5;124mr\u001b[39m\u001b[38;5;124m\"\u001b[39m\u001b[38;5;124mD:\u001b[39m\u001b[38;5;124m\\\u001b[39m\u001b[38;5;124mNew Folder\u001b[39m\u001b[38;5;124m\\\u001b[39m\u001b[38;5;124mmulti_sheet_excel.xlsx\u001b[39m\u001b[38;5;124m\"\u001b[39m,sheet_name\u001b[38;5;241m=\u001b[39mjs[\u001b[38;5;124m'\u001b[39m\u001b[38;5;124msheet_name\u001b[39m\u001b[38;5;124m'\u001b[39m][\u001b[38;5;241m0\u001b[39m])\n\u001b[0;32m      3\u001b[0m     view\u001b[38;5;241m=\u001b[39mexcel_table(question,df)\n",
      "\u001b[1;31mTypeError\u001b[0m: string indices must be integers, not 'str'"
     ]
    }
   ],
   "source": [
    "if len(js['sheet_name'])<2:\n",
    "    df=pd.read_excel(r\"D:\\New Folder\\multi_sheet_excel.xlsx\",sheet_name=js['sheet_name'][0])\n",
    "    view=excel_table(question,df)\n",
    "elif js['Join on'] != {}:\n",
    "    df=merge_excel(r\"D:\\New Folder\\multi_sheet_excel.xlsx\",js)\n",
    "    view=excel_table(question,df)\n",
    "elif js['comparison'] == True or len(js['sheet_name'])>1:\n",
    "    length=len(js['sheet_name'])\n",
    "    views={}\n",
    "    for i in range(length):\n",
    "        df=pd.read_excel(r\"D:\\New Folder\\multi_sheet_excel.xlsx\",sheet_name=js['sheet_name'][i])\n",
    "        local_vars={\"external_df\":df,\"output_df\":None}\n",
    "        cod=excel_table(question,df)\n",
    "        print(cod)\n",
    "        exec(cod,local_vars)\n",
    "        views[i]=local_vars['output_df']\n",
    "else:\n",
    "    print(\"Please Enter a Valid question OR Add More depth in your question\")\n"
   ]
  },
  {
   "cell_type": "code",
   "execution_count": null,
   "metadata": {},
   "outputs": [
    {
     "data": {
      "text/plain": [
       "{0:    Year  Month     Product  Products Sold  Total Sales\n",
       " 0  2024      1  Headphones              3         2650\n",
       " 1  2024      1      Laptop              1         2650\n",
       " 2  2024      1       Phone              2         2650\n",
       " 3  2024      1      Tablet              1         2650,\n",
       " 1:       month  total_sales_sum  number_of_products_sold\n",
       " 0     April             8000                        1\n",
       " 1  February             7000                        1\n",
       " 2   January             5000                        1\n",
       " 3     March             6500                        1}"
      ]
     },
     "execution_count": 82,
     "metadata": {},
     "output_type": "execute_result"
    }
   ],
   "source": [
    "views"
   ]
  },
  {
   "cell_type": "code",
   "execution_count": null,
   "metadata": {},
   "outputs": [],
   "source": []
  },
  {
   "cell_type": "code",
   "execution_count": null,
   "metadata": {},
   "outputs": [],
   "source": []
  },
  {
   "cell_type": "code",
   "execution_count": null,
   "metadata": {},
   "outputs": [],
   "source": []
  }
 ],
 "metadata": {
  "kernelspec": {
   "display_name": "Python 3",
   "language": "python",
   "name": "python3"
  },
  "language_info": {
   "codemirror_mode": {
    "name": "ipython",
    "version": 3
   },
   "file_extension": ".py",
   "mimetype": "text/x-python",
   "name": "python",
   "nbconvert_exporter": "python",
   "pygments_lexer": "ipython3",
   "version": "3.11.9"
  }
 },
 "nbformat": 4,
 "nbformat_minor": 2
}
